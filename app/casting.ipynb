{
 "cells": [
  {
   "cell_type": "code",
   "execution_count": 1,
   "metadata": {},
   "outputs": [],
   "source": [
    "import polars as pl"
   ]
  },
  {
   "cell_type": "code",
   "execution_count": 2,
   "metadata": {},
   "outputs": [
    {
     "name": "stdout",
     "output_type": "stream",
     "text": [
      "shape: (3, 3)\n",
      "┌──────────┬──────────────┬────────┐\n",
      "│ integers ┆ big_integers ┆ floats │\n",
      "│ ---      ┆ ---          ┆ ---    │\n",
      "│ i64      ┆ i64          ┆ f64    │\n",
      "╞══════════╪══════════════╪════════╡\n",
      "│ 1        ┆ 10000002     ┆ 4.0    │\n",
      "│ 2        ┆ 2            ┆ 5.8    │\n",
      "│ 3        ┆ 30000003     ┆ -6.3   │\n",
      "└──────────┴──────────────┴────────┘\n"
     ]
    }
   ],
   "source": [
    "df = pl.DataFrame({\n",
    "    \"integers\": [1, 2, 3],\n",
    "    \"big_integers\": [10000002, 2, 30000003],\n",
    "    \"floats\": [4.0, 5.8, -6.3],\n",
    "})\n",
    "print(df)"
   ]
  },
  {
   "cell_type": "code",
   "execution_count": 3,
   "metadata": {},
   "outputs": [
    {
     "name": "stdout",
     "output_type": "stream",
     "text": [
      "shape: (3, 2)\n",
      "┌───────────────────┬───────────────────┐\n",
      "│ integers_as_float ┆ float_as_integers │\n",
      "│ ---               ┆ ---               │\n",
      "│ f32               ┆ i32               │\n",
      "╞═══════════════════╪═══════════════════╡\n",
      "│ 1.0               ┆ 4                 │\n",
      "│ 2.0               ┆ 5                 │\n",
      "│ 3.0               ┆ -6                │\n",
      "└───────────────────┴───────────────────┘\n"
     ]
    }
   ],
   "source": [
    "result = df.select(\n",
    "    pl.col('integers').cast(pl.Float32).alias('integers_as_float'),\n",
    "    pl.col('floats').cast(pl.Int32).alias('float_as_integers'),\n",
    ")\n",
    "print(result)"
   ]
  },
  {
   "cell_type": "code",
   "execution_count": 6,
   "metadata": {},
   "outputs": [
    {
     "name": "stdout",
     "output_type": "stream",
     "text": [
      "before downcasting: 72 bytes\n",
      "After downcasting: 24 bytes\n"
     ]
    }
   ],
   "source": [
    "print(f\"before downcasting: {df.estimated_size()} bytes\")\n",
    "resutl = df.with_columns(\n",
    "    pl.col('integers').cast(pl.Int16),\n",
    "    pl.col('floats').cast(pl.Float32),\n",
    ")\n",
    "print(f\"After downcasting: {result.estimated_size()} bytes\")"
   ]
  },
  {
   "cell_type": "code",
   "execution_count": 8,
   "metadata": {},
   "outputs": [
    {
     "name": "stdout",
     "output_type": "stream",
     "text": [
      "shape: (3, 3)\n",
      "┌──────────────────────────┬────────────────────────────┬────────────────────────────┐\n",
      "│ strings_converted_to_int ┆ strings_converted_to_float ┆ floats_converted_to_string │\n",
      "│ ---                      ┆ ---                        ┆ ---                        │\n",
      "│ i32                      ┆ f64                        ┆ str                        │\n",
      "╞══════════════════════════╪════════════════════════════╪════════════════════════════╡\n",
      "│ 1                        ┆ 4.0                        ┆ 4.0                        │\n",
      "│ 2                        ┆ 5.8                        ┆ 5.8                        │\n",
      "│ 3                        ┆ -6.3                       ┆ -6.3                       │\n",
      "└──────────────────────────┴────────────────────────────┴────────────────────────────┘\n"
     ]
    }
   ],
   "source": [
    "df = pl.DataFrame({\n",
    "    \"integers_as_strings\": [\"1\", \"2\", \"3\"],\n",
    "    \"floats_as_strings\": [\"4.0\", \"5.8\", \"-6.3\"],\n",
    "    \"floats\": [4.0, 5.8, -6.3],\n",
    "})\n",
    "result = df.select(\n",
    "    pl.col(\"integers_as_strings\").cast(pl.Int32).alias(\"strings_converted_to_int\"),\n",
    "    pl.col('floats_as_strings').cast(pl.Float64).alias(\"strings_converted_to_float\"),\n",
    "    pl.col('floats').cast(pl.String).alias(\"floats_converted_to_string\"),\n",
    ")\n",
    "print(result)"
   ]
  },
  {
   "cell_type": "code",
   "execution_count": 11,
   "metadata": {},
   "outputs": [
    {
     "name": "stdout",
     "output_type": "stream",
     "text": [
      "shape: (5, 3)\n",
      "┌─────────────────────┬──────────────────┬─────────────────┐\n",
      "│ integers_to_Boolean ┆ float_to_boolean ┆ Boolean_to_Int8 │\n",
      "│ ---                 ┆ ---              ┆ ---             │\n",
      "│ bool                ┆ bool             ┆ i8              │\n",
      "╞═════════════════════╪══════════════════╪═════════════════╡\n",
      "│ true                ┆ false            ┆ 1               │\n",
      "│ false               ┆ true             ┆ 0               │\n",
      "│ true                ┆ true             ┆ 1               │\n",
      "│ true                ┆ true             ┆ 0               │\n",
      "│ true                ┆ true             ┆ 1               │\n",
      "└─────────────────────┴──────────────────┴─────────────────┘\n"
     ]
    }
   ],
   "source": [
    "df = pl.DataFrame(\n",
    "    {\n",
    "        \"integers\": [-1, 0, 2, 3, 4],\n",
    "        \"floats\": [0.0, 1.0, 2.0, 3.0, 4.0],\n",
    "        \"bools\": [True, False, True, False, True],\n",
    "    }\n",
    ")\n",
    "result = df.select(\n",
    "    pl.col('integers').cast(pl.Boolean).alias(\"integers_to_Boolean\"),\n",
    "    pl.col('floats').cast(pl.Boolean).alias(\"float_to_boolean\"),\n",
    "    pl.col(\"bools\").cast(pl.Int8).alias(\"Boolean_to_Int8\")\n",
    ")\n",
    "print(result)"
   ]
  },
  {
   "cell_type": "code",
   "execution_count": 13,
   "metadata": {},
   "outputs": [
    {
     "name": "stdout",
     "output_type": "stream",
     "text": [
      "shape: (2, 3)\n",
      "┌────────────┬─────────────────────┬──────────┐\n",
      "│ date       ┆ datetime            ┆ time     │\n",
      "│ ---        ┆ ---                 ┆ ---      │\n",
      "│ date       ┆ datetime[μs]        ┆ time     │\n",
      "╞════════════╪═════════════════════╪══════════╡\n",
      "│ 1970-01-01 ┆ 1970-01-01 00:00:00 ┆ 00:00:00 │\n",
      "│ 1970-01-10 ┆ 1970-01-01 00:01:00 ┆ 00:00:01 │\n",
      "└────────────┴─────────────────────┴──────────┘\n"
     ]
    }
   ],
   "source": [
    "from datetime import date, time, datetime\n",
    "\n",
    "df = pl.DataFrame({\n",
    "    \"date\": [\n",
    "        date(1970, 1, 1),  # epoch\n",
    "        date(1970, 1, 10),  # 9 days later\n",
    "    ],\n",
    "    \"datetime\": [\n",
    "        datetime(1970, 1, 1, 0, 0, 0),  # epoch\n",
    "        datetime(1970, 1, 1, 0, 1, 0),  # 1 minute later\n",
    "    ],\n",
    "    \"time\": [\n",
    "        time(0, 0, 0),  # reference time\n",
    "        time(0, 0, 1),  # 1 second later\n",
    "    ],\n",
    "})\n",
    "\n",
    "print(df)"
   ]
  },
  {
   "cell_type": "code",
   "execution_count": 14,
   "metadata": {},
   "outputs": [
    {
     "name": "stdout",
     "output_type": "stream",
     "text": [
      "shape: (2, 3)\n",
      "┌──────────────────┬────────────────┬───────────────────┐\n",
      "│ days_since_epoch ┆ us_since_epoch ┆ ns_since_midnight │\n",
      "│ ---              ┆ ---            ┆ ---               │\n",
      "│ i64              ┆ i64            ┆ i64               │\n",
      "╞══════════════════╪════════════════╪═══════════════════╡\n",
      "│ 0                ┆ 0              ┆ 0                 │\n",
      "│ 9                ┆ 60000000       ┆ 1000000000        │\n",
      "└──────────────────┴────────────────┴───────────────────┘\n"
     ]
    }
   ],
   "source": [
    "result = df.select(\n",
    "    pl.col('date').cast(pl.Int64).alias('days_since_epoch'),\n",
    "    pl.col('datetime').cast(pl.Int64).alias('us_since_epoch'),\n",
    "    pl.col('time').cast(pl.Int64).alias('ns_since_midnight'),\n",
    ")\n",
    "print(result)"
   ]
  },
  {
   "cell_type": "code",
   "execution_count": 16,
   "metadata": {},
   "outputs": [
    {
     "name": "stdout",
     "output_type": "stream",
     "text": [
      "shape: (2, 2)\n",
      "┌────────────┬────────────┐\n",
      "│ date       ┆ string     │\n",
      "│ ---        ┆ ---        │\n",
      "│ date       ┆ str        │\n",
      "╞════════════╪════════════╡\n",
      "│ 2022-01-01 ┆ 2022-01-01 │\n",
      "│ 2022-01-02 ┆ 2022-01-02 │\n",
      "└────────────┴────────────┘\n",
      "shape: (2, 2)\n",
      "┌────────────┬─────────────────────┐\n",
      "│ date       ┆ string              │\n",
      "│ ---        ┆ ---                 │\n",
      "│ str        ┆ datetime[μs]        │\n",
      "╞════════════╪═════════════════════╡\n",
      "│ 2022-01-01 ┆ 2022-01-01 00:00:00 │\n",
      "│ 2022-02-02 ┆ 2022-01-02 00:00:00 │\n",
      "└────────────┴─────────────────────┘\n"
     ]
    }
   ],
   "source": [
    "df = pl.DataFrame({\n",
    "    \"date\": [date(2022, 1, 1), date(2022, 1, 2)],\n",
    "    \"string\": [\"2022-01-01\", \"2022-01-02\"],\n",
    "})\n",
    "print(df)\n",
    "result = df.select(\n",
    "    pl.col(\"date\").dt.to_string('%Y-%d-%d'),\n",
    "    pl.col('string').str.to_datetime('%Y-%m-%d')\n",
    ")\n",
    "print(result)"
   ]
  },
  {
   "cell_type": "code",
   "execution_count": null,
   "metadata": {},
   "outputs": [],
   "source": []
  }
 ],
 "metadata": {
  "kernelspec": {
   "display_name": "venv",
   "language": "python",
   "name": "python3"
  },
  "language_info": {
   "codemirror_mode": {
    "name": "ipython",
    "version": 3
   },
   "file_extension": ".py",
   "mimetype": "text/x-python",
   "name": "python",
   "nbconvert_exporter": "python",
   "pygments_lexer": "ipython3",
   "version": "3.12.3"
  }
 },
 "nbformat": 4,
 "nbformat_minor": 2
}
