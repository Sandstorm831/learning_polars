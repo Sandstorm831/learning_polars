{
 "cells": [
  {
   "cell_type": "code",
   "execution_count": 1,
   "metadata": {},
   "outputs": [],
   "source": [
    "import polars as pl"
   ]
  },
  {
   "cell_type": "code",
   "execution_count": 2,
   "metadata": {},
   "outputs": [
    {
     "name": "stdout",
     "output_type": "stream",
     "text": [
      "shape: (3, 3)\n",
      "┌──────────┬──────────────┬────────┐\n",
      "│ integers ┆ big_integers ┆ floats │\n",
      "│ ---      ┆ ---          ┆ ---    │\n",
      "│ i64      ┆ i64          ┆ f64    │\n",
      "╞══════════╪══════════════╪════════╡\n",
      "│ 1        ┆ 10000002     ┆ 4.0    │\n",
      "│ 2        ┆ 2            ┆ 5.8    │\n",
      "│ 3        ┆ 30000003     ┆ -6.3   │\n",
      "└──────────┴──────────────┴────────┘\n"
     ]
    }
   ],
   "source": [
    "df = pl.DataFrame({\n",
    "    \"integers\": [1, 2, 3],\n",
    "    \"big_integers\": [10000002, 2, 30000003],\n",
    "    \"floats\": [4.0, 5.8, -6.3],\n",
    "})\n",
    "print(df)"
   ]
  },
  {
   "cell_type": "code",
   "execution_count": 3,
   "metadata": {},
   "outputs": [
    {
     "name": "stdout",
     "output_type": "stream",
     "text": [
      "shape: (3, 2)\n",
      "┌───────────────────┬───────────────────┐\n",
      "│ integers_as_float ┆ float_as_integers │\n",
      "│ ---               ┆ ---               │\n",
      "│ f32               ┆ i32               │\n",
      "╞═══════════════════╪═══════════════════╡\n",
      "│ 1.0               ┆ 4                 │\n",
      "│ 2.0               ┆ 5                 │\n",
      "│ 3.0               ┆ -6                │\n",
      "└───────────────────┴───────────────────┘\n"
     ]
    }
   ],
   "source": [
    "result = df.select(\n",
    "    pl.col('integers').cast(pl.Float32).alias('integers_as_float'),\n",
    "    pl.col('floats').cast(pl.Int32).alias('float_as_integers'),\n",
    ")\n",
    "print(result)"
   ]
  },
  {
   "cell_type": "code",
   "execution_count": 6,
   "metadata": {},
   "outputs": [
    {
     "name": "stdout",
     "output_type": "stream",
     "text": [
      "before downcasting: 72 bytes\n",
      "After downcasting: 24 bytes\n"
     ]
    }
   ],
   "source": [
    "print(f\"before downcasting: {df.estimated_size()} bytes\")\n",
    "resutl = df.with_columns(\n",
    "    pl.col('integers').cast(pl.Int16),\n",
    "    pl.col('floats').cast(pl.Float32),\n",
    ")\n",
    "print(f\"After downcasting: {result.estimated_size()} bytes\")"
   ]
  },
  {
   "cell_type": "code",
   "execution_count": 8,
   "metadata": {},
   "outputs": [
    {
     "name": "stdout",
     "output_type": "stream",
     "text": [
      "shape: (3, 3)\n",
      "┌──────────────────────────┬────────────────────────────┬────────────────────────────┐\n",
      "│ strings_converted_to_int ┆ strings_converted_to_float ┆ floats_converted_to_string │\n",
      "│ ---                      ┆ ---                        ┆ ---                        │\n",
      "│ i32                      ┆ f64                        ┆ str                        │\n",
      "╞══════════════════════════╪════════════════════════════╪════════════════════════════╡\n",
      "│ 1                        ┆ 4.0                        ┆ 4.0                        │\n",
      "│ 2                        ┆ 5.8                        ┆ 5.8                        │\n",
      "│ 3                        ┆ -6.3                       ┆ -6.3                       │\n",
      "└──────────────────────────┴────────────────────────────┴────────────────────────────┘\n"
     ]
    }
   ],
   "source": [
    "df = pl.DataFrame({\n",
    "    \"integers_as_strings\": [\"1\", \"2\", \"3\"],\n",
    "    \"floats_as_strings\": [\"4.0\", \"5.8\", \"-6.3\"],\n",
    "    \"floats\": [4.0, 5.8, -6.3],\n",
    "})\n",
    "result = df.select(\n",
    "    pl.col(\"integers_as_strings\").cast(pl.Int32).alias(\"strings_converted_to_int\"),\n",
    "    pl.col('floats_as_strings').cast(pl.Float64).alias(\"strings_converted_to_float\"),\n",
    "    pl.col('floats').cast(pl.String).alias(\"floats_converted_to_string\"),\n",
    ")\n",
    "print(result)"
   ]
  },
  {
   "cell_type": "code",
   "execution_count": 11,
   "metadata": {},
   "outputs": [
    {
     "name": "stdout",
     "output_type": "stream",
     "text": [
      "shape: (5, 3)\n",
      "┌─────────────────────┬──────────────────┬─────────────────┐\n",
      "│ integers_to_Boolean ┆ float_to_boolean ┆ Boolean_to_Int8 │\n",
      "│ ---                 ┆ ---              ┆ ---             │\n",
      "│ bool                ┆ bool             ┆ i8              │\n",
      "╞═════════════════════╪══════════════════╪═════════════════╡\n",
      "│ true                ┆ false            ┆ 1               │\n",
      "│ false               ┆ true             ┆ 0               │\n",
      "│ true                ┆ true             ┆ 1               │\n",
      "│ true                ┆ true             ┆ 0               │\n",
      "│ true                ┆ true             ┆ 1               │\n",
      "└─────────────────────┴──────────────────┴─────────────────┘\n"
     ]
    }
   ],
   "source": [
    "df = pl.DataFrame(\n",
    "    {\n",
    "        \"integers\": [-1, 0, 2, 3, 4],\n",
    "        \"floats\": [0.0, 1.0, 2.0, 3.0, 4.0],\n",
    "        \"bools\": [True, False, True, False, True],\n",
    "    }\n",
    ")\n",
    "result = df.select(\n",
    "    pl.col('integers').cast(pl.Boolean).alias(\"integers_to_Boolean\"),\n",
    "    pl.col('floats').cast(pl.Boolean).alias(\"float_to_boolean\"),\n",
    "    pl.col(\"bools\").cast(pl.Int8).alias(\"Boolean_to_Int8\")\n",
    ")\n",
    "print(result)"
   ]
  },
  {
   "cell_type": "code",
   "execution_count": null,
   "metadata": {},
   "outputs": [
    {
     "ename": "TypeError",
     "evalue": "'module' object is not callable",
     "output_type": "error",
     "traceback": [
      "\u001b[31m---------------------------------------------------------------------------\u001b[39m",
      "\u001b[31mTypeError\u001b[39m                                 Traceback (most recent call last)",
      "\u001b[36mCell\u001b[39m\u001b[36m \u001b[39m\u001b[32mIn[12]\u001b[39m\u001b[32m, line 3\u001b[39m\n\u001b[32m      1\u001b[39m \u001b[38;5;28;01mfrom\u001b[39;00m\u001b[38;5;250m \u001b[39m\u001b[34;01mdatetime\u001b[39;00m\u001b[38;5;250m \u001b[39m\u001b[38;5;28;01mimport\u001b[39;00m date, time, datetime\n\u001b[32m----> \u001b[39m\u001b[32m3\u001b[39m df = \u001b[43mpl\u001b[49m\u001b[43m.\u001b[49m\u001b[43mdataframe\u001b[49m\u001b[43m(\u001b[49m\u001b[43m{\u001b[49m\n\u001b[32m      4\u001b[39m \u001b[43m    \u001b[49m\u001b[33;43m\"\u001b[39;49m\u001b[33;43mdate\u001b[39;49m\u001b[33;43m\"\u001b[39;49m\u001b[43m:\u001b[49m\u001b[43m \u001b[49m\u001b[43m[\u001b[49m\n\u001b[32m      5\u001b[39m \u001b[43m        \u001b[49m\u001b[43mdate\u001b[49m\u001b[43m(\u001b[49m\u001b[32;43m1970\u001b[39;49m\u001b[43m,\u001b[49m\u001b[43m \u001b[49m\u001b[32;43m1\u001b[39;49m\u001b[43m,\u001b[49m\u001b[43m \u001b[49m\u001b[32;43m1\u001b[39;49m\u001b[43m)\u001b[49m\u001b[43m,\u001b[49m\u001b[43m  \u001b[49m\u001b[38;5;66;43;03m# epoch\u001b[39;49;00m\n\u001b[32m      6\u001b[39m \u001b[43m        \u001b[49m\u001b[43mdate\u001b[49m\u001b[43m(\u001b[49m\u001b[32;43m1970\u001b[39;49m\u001b[43m,\u001b[49m\u001b[43m \u001b[49m\u001b[32;43m1\u001b[39;49m\u001b[43m,\u001b[49m\u001b[43m \u001b[49m\u001b[32;43m10\u001b[39;49m\u001b[43m)\u001b[49m\u001b[43m,\u001b[49m\u001b[43m  \u001b[49m\u001b[38;5;66;43;03m# 9 days later\u001b[39;49;00m\n\u001b[32m      7\u001b[39m \u001b[43m    \u001b[49m\u001b[43m]\u001b[49m\u001b[43m,\u001b[49m\n\u001b[32m      8\u001b[39m \u001b[43m    \u001b[49m\u001b[33;43m\"\u001b[39;49m\u001b[33;43mdatetime\u001b[39;49m\u001b[33;43m\"\u001b[39;49m\u001b[43m:\u001b[49m\u001b[43m \u001b[49m\u001b[43m[\u001b[49m\n\u001b[32m      9\u001b[39m \u001b[43m        \u001b[49m\u001b[43mdatetime\u001b[49m\u001b[43m(\u001b[49m\u001b[32;43m1970\u001b[39;49m\u001b[43m,\u001b[49m\u001b[43m \u001b[49m\u001b[32;43m1\u001b[39;49m\u001b[43m,\u001b[49m\u001b[43m \u001b[49m\u001b[32;43m1\u001b[39;49m\u001b[43m,\u001b[49m\u001b[43m \u001b[49m\u001b[32;43m0\u001b[39;49m\u001b[43m,\u001b[49m\u001b[43m \u001b[49m\u001b[32;43m0\u001b[39;49m\u001b[43m,\u001b[49m\u001b[43m \u001b[49m\u001b[32;43m0\u001b[39;49m\u001b[43m)\u001b[49m\u001b[43m,\u001b[49m\u001b[43m  \u001b[49m\u001b[38;5;66;43;03m# epoch\u001b[39;49;00m\n\u001b[32m     10\u001b[39m \u001b[43m        \u001b[49m\u001b[43mdatetime\u001b[49m\u001b[43m(\u001b[49m\u001b[32;43m1970\u001b[39;49m\u001b[43m,\u001b[49m\u001b[43m \u001b[49m\u001b[32;43m1\u001b[39;49m\u001b[43m,\u001b[49m\u001b[43m \u001b[49m\u001b[32;43m1\u001b[39;49m\u001b[43m,\u001b[49m\u001b[43m \u001b[49m\u001b[32;43m0\u001b[39;49m\u001b[43m,\u001b[49m\u001b[43m \u001b[49m\u001b[32;43m1\u001b[39;49m\u001b[43m,\u001b[49m\u001b[43m \u001b[49m\u001b[32;43m0\u001b[39;49m\u001b[43m)\u001b[49m\u001b[43m,\u001b[49m\u001b[43m  \u001b[49m\u001b[38;5;66;43;03m# 1 minute later\u001b[39;49;00m\n\u001b[32m     11\u001b[39m \u001b[43m    \u001b[49m\u001b[43m]\u001b[49m\u001b[43m,\u001b[49m\n\u001b[32m     12\u001b[39m \u001b[43m    \u001b[49m\u001b[33;43m\"\u001b[39;49m\u001b[33;43mtime\u001b[39;49m\u001b[33;43m\"\u001b[39;49m\u001b[43m:\u001b[49m\u001b[43m \u001b[49m\u001b[43m[\u001b[49m\n\u001b[32m     13\u001b[39m \u001b[43m        \u001b[49m\u001b[43mtime\u001b[49m\u001b[43m(\u001b[49m\u001b[32;43m0\u001b[39;49m\u001b[43m,\u001b[49m\u001b[43m \u001b[49m\u001b[32;43m0\u001b[39;49m\u001b[43m,\u001b[49m\u001b[43m \u001b[49m\u001b[32;43m0\u001b[39;49m\u001b[43m)\u001b[49m\u001b[43m,\u001b[49m\u001b[43m  \u001b[49m\u001b[38;5;66;43;03m# reference time\u001b[39;49;00m\n\u001b[32m     14\u001b[39m \u001b[43m        \u001b[49m\u001b[43mtime\u001b[49m\u001b[43m(\u001b[49m\u001b[32;43m0\u001b[39;49m\u001b[43m,\u001b[49m\u001b[43m \u001b[49m\u001b[32;43m0\u001b[39;49m\u001b[43m,\u001b[49m\u001b[43m \u001b[49m\u001b[32;43m1\u001b[39;49m\u001b[43m)\u001b[49m\u001b[43m,\u001b[49m\u001b[43m  \u001b[49m\u001b[38;5;66;43;03m# 1 second later\u001b[39;49;00m\n\u001b[32m     15\u001b[39m \u001b[43m    \u001b[49m\u001b[43m]\u001b[49m\u001b[43m,\u001b[49m\n\u001b[32m     16\u001b[39m \u001b[43m}\u001b[49m\u001b[43m)\u001b[49m\n\u001b[32m     17\u001b[39m \u001b[38;5;28mprint\u001b[39m(df)\n",
      "\u001b[31mTypeError\u001b[39m: 'module' object is not callable"
     ]
    }
   ],
   "source": [
    "from datetime import date, time, datetime\n",
    "\n",
    "df = pl.DataFrame({\n",
    "    \"date\": [\n",
    "        date(1970, 1, 1),  # epoch\n",
    "        date(1970, 1, 10),  # 9 days later\n",
    "    ],\n",
    "    \"datetime\": [\n",
    "        datetime(1970, 1, 1, 0, 0, 0),  # epoch\n",
    "        datetime(1970, 1, 1, 0, 1, 0),  # 1 minute later\n",
    "    ],\n",
    "    \"time\": [\n",
    "        time(0, 0, 0),  # reference time\n",
    "        time(0, 0, 1),  # 1 second later\n",
    "    ],\n",
    "})\n",
    "\n",
    "print(df)"
   ]
  },
  {
   "cell_type": "code",
   "execution_count": null,
   "metadata": {},
   "outputs": [],
   "source": []
  }
 ],
 "metadata": {
  "kernelspec": {
   "display_name": "venv",
   "language": "python",
   "name": "python3"
  },
  "language_info": {
   "codemirror_mode": {
    "name": "ipython",
    "version": 3
   },
   "file_extension": ".py",
   "mimetype": "text/x-python",
   "name": "python",
   "nbconvert_exporter": "python",
   "pygments_lexer": "ipython3",
   "version": "3.12.3"
  }
 },
 "nbformat": 4,
 "nbformat_minor": 2
}
