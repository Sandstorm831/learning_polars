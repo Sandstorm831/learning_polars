{
 "cells": [
  {
   "cell_type": "code",
   "execution_count": 5,
   "metadata": {},
   "outputs": [],
   "source": [
    "import polars as pl"
   ]
  },
  {
   "cell_type": "code",
   "execution_count": 6,
   "metadata": {},
   "outputs": [
    {
     "name": "stdout",
     "output_type": "stream",
     "text": [
      "shape: (4, 4)\n",
      "┌────────────┬─────────┬────────────┬──────────────┐\n",
      "│ language   ┆ fruit   ┆ byte_count ┆ letter_count │\n",
      "│ ---        ┆ ---     ┆ ---        ┆ ---          │\n",
      "│ str        ┆ str     ┆ u32        ┆ u32          │\n",
      "╞════════════╪═════════╪════════════╪══════════════╡\n",
      "│ English    ┆ pear    ┆ 4          ┆ 4            │\n",
      "│ Dutch      ┆ peer    ┆ 4          ┆ 4            │\n",
      "│ Portuguese ┆ pêra    ┆ 5          ┆ 4            │\n",
      "│ Finish     ┆ päärynä ┆ 10         ┆ 7            │\n",
      "└────────────┴─────────┴────────────┴──────────────┘\n"
     ]
    }
   ],
   "source": [
    "df = pl.DataFrame({\n",
    "    \"language\": [\"English\", \"Dutch\", \"Portuguese\", \"Finish\"],\n",
    "    \"fruit\": [\"pear\", \"peer\", \"pêra\", \"päärynä\"],\n",
    "})\n",
    "\n",
    "result = df.with_columns(\n",
    "    pl.col('fruit').str.len_bytes().alias('byte_count'),\n",
    "    pl.col('fruit').str.len_chars().alias('letter_count')\n",
    ")\n",
    "print(result)"
   ]
  },
  {
   "cell_type": "code",
   "execution_count": 9,
   "metadata": {},
   "outputs": [
    {
     "name": "stdout",
     "output_type": "stream",
     "text": [
      "shape: (4, 5)\n",
      "┌─────────┬───────────────┬───────┬───────┬─────────────┐\n",
      "│ fruit   ┆ starts_with_p ┆ p..r  ┆ e+    ┆ ends_with_r │\n",
      "│ ---     ┆ ---           ┆ ---   ┆ ---   ┆ ---         │\n",
      "│ str     ┆ bool          ┆ bool  ┆ bool  ┆ bool        │\n",
      "╞═════════╪═══════════════╪═══════╪═══════╪═════════════╡\n",
      "│ pear    ┆ true          ┆ true  ┆ true  ┆ true        │\n",
      "│ peer    ┆ true          ┆ true  ┆ true  ┆ true        │\n",
      "│ pêra    ┆ true          ┆ false ┆ false ┆ false       │\n",
      "│ päärynä ┆ true          ┆ true  ┆ false ┆ false       │\n",
      "└─────────┴───────────────┴───────┴───────┴─────────────┘\n"
     ]
    }
   ],
   "source": [
    "result = df.select(\n",
    "    pl.col('fruit'),\n",
    "    pl.col(\"fruit\").str.starts_with(\"p\").alias(\"starts_with_p\"),\n",
    "    pl.col('fruit').str.contains('p..r').alias('p..r'),\n",
    "    pl.col('fruit').str.contains('e+').alias('e+'),\n",
    "    pl.col('fruit').str.ends_with('r').alias('ends_with_r'),\n",
    ")\n",
    "print(result)"
   ]
  },
  {
   "cell_type": "code",
   "execution_count": null,
   "metadata": {},
   "outputs": [],
   "source": []
  }
 ],
 "metadata": {
  "kernelspec": {
   "display_name": "venv",
   "language": "python",
   "name": "python3"
  },
  "language_info": {
   "codemirror_mode": {
    "name": "ipython",
    "version": 3
   },
   "file_extension": ".py",
   "mimetype": "text/x-python",
   "name": "python",
   "nbconvert_exporter": "python",
   "pygments_lexer": "ipython3",
   "version": "3.12.3"
  }
 },
 "nbformat": 4,
 "nbformat_minor": 2
}
