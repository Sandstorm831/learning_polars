{
 "cells": [
  {
   "cell_type": "code",
   "execution_count": 1,
   "metadata": {},
   "outputs": [],
   "source": [
    "import polars as pl"
   ]
  },
  {
   "cell_type": "code",
   "execution_count": 2,
   "metadata": {},
   "outputs": [
    {
     "name": "stdout",
     "output_type": "stream",
     "text": [
      "shape: (4, 4)\n",
      "┌────────────────┬────────────┬────────┬────────┐\n",
      "│ name           ┆ birthdate  ┆ weight ┆ height │\n",
      "│ ---            ┆ ---        ┆ ---    ┆ ---    │\n",
      "│ str            ┆ str        ┆ f64    ┆ f64    │\n",
      "╞════════════════╪════════════╪════════╪════════╡\n",
      "│ Alice Archer   ┆ 1997-01-10 ┆ 57.9   ┆ 1.56   │\n",
      "│ Ben Brown      ┆ 1985-02-15 ┆ 72.5   ┆ 1.77   │\n",
      "│ Chloe Cooper   ┆ 1983-03-22 ┆ 53.6   ┆ 1.65   │\n",
      "│ Daniel Donovan ┆ 1981-04-30 ┆ 83.1   ┆ 1.75   │\n",
      "└────────────────┴────────────┴────────┴────────┘\n"
     ]
    }
   ],
   "source": [
    "df = pl.read_csv('../public/assets/output.csv')\n",
    "print(df)"
   ]
  },
  {
   "cell_type": "code",
   "execution_count": 3,
   "metadata": {},
   "outputs": [
    {
     "name": "stdout",
     "output_type": "stream",
     "text": [
      "shape: (4, 3)\n",
      "┌─────┬─────┬──────┐\n",
      "│ foo ┆ bar ┆ stop │\n",
      "│ --- ┆ --- ┆ ---  │\n",
      "│ i64 ┆ i64 ┆ str  │\n",
      "╞═════╪═════╪══════╡\n",
      "│ 1   ┆ 2   ┆ null │\n",
      "│ 2   ┆ 3   ┆ bak  │\n",
      "│ 3   ┆ 4   ┆ bax  │\n",
      "│ 4   ┆ 5   ┆ zab  │\n",
      "└─────┴─────┴──────┘\n"
     ]
    }
   ],
   "source": [
    "df = pl.DataFrame(\n",
    "    {\n",
    "        \"foo\": [1,2,3,4],\n",
    "        \"bar\": [2,3,4,5],\n",
    "        \"stop\": [None, \"bak\", \"bax\", \"zab\"]\n",
    "    }\n",
    ")\n",
    "print(df)\n",
    "df.write_csv('../public/assets/file1.csv')"
   ]
  },
  {
   "cell_type": "code",
   "execution_count": 9,
   "metadata": {},
   "outputs": [
    {
     "name": "stdout",
     "output_type": "stream",
     "text": [
      "shape: (3, 5)\n",
      "┌─────┬────────────────┬──────────────────────────┬──────────┬──────┐\n",
      "│ Sno ┆ COMPANY_PERSON ┆ Email                    ┆ COMPANY  ┆ Sent │\n",
      "│ --- ┆ ---            ┆ ---                      ┆ ---      ┆ ---  │\n",
      "│ i64 ┆ str            ┆ str                      ┆ str      ┆ str  │\n",
      "╞═════╪════════════════╪══════════════════════════╪══════════╪══════╡\n",
      "│ 1   ┆ dom som        ┆ gargrohan138@gmail.com   ┆ someDsdf ┆ Yes  │\n",
      "│ 2   ┆ mr rom         ┆ mongeradnos@gmail.com    ┆ nomNom   ┆ Yes  │\n",
      "│ 3   ┆ Shobit garg    ┆ alexandermeg48@gmail.com ┆ sagemath ┆ Yes  │\n",
      "└─────┴────────────────┴──────────────────────────┴──────────┴──────┘\n"
     ]
    }
   ],
   "source": [
    "df = pl.read_excel('../../../CompaniesAndHRs/email_automation/dummy.xlsx')\n",
    "print(df)"
   ]
  },
  {
   "cell_type": "code",
   "execution_count": 10,
   "metadata": {},
   "outputs": [
    {
     "data": {
      "text/plain": [
       "<xlsxwriter.workbook.Workbook at 0x7852d77ca360>"
      ]
     },
     "execution_count": 10,
     "metadata": {},
     "output_type": "execute_result"
    }
   ],
   "source": [
    "df = pl.DataFrame(\n",
    "    {\n",
    "        \"ticker\": [\"AAPL\", \"NVDA\", \"MSFT\", \"GOOG\", \"AMZN\"],\n",
    "        \"company_name\": [\"Apple\", \"NVIDIA\", \"Microsoft\", \"Alphabet (Google)\", \"Amazon\"],\n",
    "        \"price\": [229.9, 138.93, 420.56, 166.41, 188.4],\n",
    "        \"day_high\": [231.31, 139.6, 424.04, 167.62, 189.83],\n",
    "        \"day_low\": [228.6, 136.3, 417.52, 164.78, 188.44],\n",
    "        \"year_high\": [237.23, 140.76, 468.35, 193.31, 201.2],\n",
    "        \"year_low\": [164.08, 39.23, 324.39, 121.46, 118.35],\n",
    "    }\n",
    ")\n",
    "df.write_excel(\"../public/assets/file2.xlsx\")"
   ]
  },
  {
   "cell_type": "code",
   "execution_count": null,
   "metadata": {},
   "outputs": [],
   "source": []
  }
 ],
 "metadata": {
  "kernelspec": {
   "display_name": "venv",
   "language": "python",
   "name": "python3"
  },
  "language_info": {
   "codemirror_mode": {
    "name": "ipython",
    "version": 3
   },
   "file_extension": ".py",
   "mimetype": "text/x-python",
   "name": "python",
   "nbconvert_exporter": "python",
   "pygments_lexer": "ipython3",
   "version": "3.12.3"
  }
 },
 "nbformat": 4,
 "nbformat_minor": 2
}
