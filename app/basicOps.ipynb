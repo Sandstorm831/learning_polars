{
 "cells": [
  {
   "cell_type": "code",
   "execution_count": 1,
   "metadata": {},
   "outputs": [],
   "source": [
    "import polars as pl\n",
    "import numpy as np"
   ]
  },
  {
   "cell_type": "code",
   "execution_count": 2,
   "metadata": {},
   "outputs": [],
   "source": [
    "np.random.seed(42)"
   ]
  },
  {
   "cell_type": "code",
   "execution_count": 4,
   "metadata": {},
   "outputs": [
    {
     "name": "stdout",
     "output_type": "stream",
     "text": [
      "shape: (5, 4)\n",
      "┌──────┬───────┬──────────┬────────┐\n",
      "│ nrs  ┆ names ┆ random   ┆ groups │\n",
      "│ ---  ┆ ---   ┆ ---      ┆ ---    │\n",
      "│ i64  ┆ str   ┆ f64      ┆ str    │\n",
      "╞══════╪═══════╪══════════╪════════╡\n",
      "│ 1    ┆ foo   ┆ 0.155995 ┆ A      │\n",
      "│ 2    ┆ ham   ┆ 0.058084 ┆ A      │\n",
      "│ 3    ┆ spam  ┆ 0.866176 ┆ B      │\n",
      "│ null ┆ egg   ┆ 0.601115 ┆ A      │\n",
      "│ 5    ┆ spam  ┆ 0.708073 ┆ B      │\n",
      "└──────┴───────┴──────────┴────────┘\n"
     ]
    }
   ],
   "source": [
    "df = pl.DataFrame({\n",
    "    \"nrs\": [1, 2, 3, None, 5],\n",
    "    \"names\": [\"foo\", \"ham\", \"spam\", \"egg\", \"spam\"],\n",
    "    \"random\": np.random.rand(5),\n",
    "    \"groups\": [\"A\", \"A\", \"B\", \"A\", \"B\"],\n",
    "})\n",
    "print(df)"
   ]
  },
  {
   "cell_type": "code",
   "execution_count": 5,
   "metadata": {},
   "outputs": [
    {
     "name": "stdout",
     "output_type": "stream",
     "text": [
      "shape: (5, 6)\n",
      "┌─────────┬─────────┬──────────────┬──────────────┬──────────┬─────────┐\n",
      "│ nrs + 5 ┆ nrs - 5 ┆ nrs * random ┆ nrs / random ┆ nrs ** 2 ┆ nrs % 3 │\n",
      "│ ---     ┆ ---     ┆ ---          ┆ ---          ┆ ---      ┆ ---     │\n",
      "│ i64     ┆ i64     ┆ f64          ┆ f64          ┆ i64      ┆ i64     │\n",
      "╞═════════╪═════════╪══════════════╪══════════════╪══════════╪═════════╡\n",
      "│ 6       ┆ -4      ┆ 0.155995     ┆ 6.410482     ┆ 1        ┆ 1       │\n",
      "│ 7       ┆ -3      ┆ 0.116167     ┆ 34.43312     ┆ 4        ┆ 2       │\n",
      "│ 8       ┆ -2      ┆ 2.598528     ┆ 3.463499     ┆ 9        ┆ 0       │\n",
      "│ null    ┆ null    ┆ null         ┆ null         ┆ null     ┆ null    │\n",
      "│ 10      ┆ 0       ┆ 3.540363     ┆ 7.061423     ┆ 25       ┆ 2       │\n",
      "└─────────┴─────────┴──────────────┴──────────────┴──────────┴─────────┘\n"
     ]
    }
   ],
   "source": [
    "result = df.select(\n",
    "    (pl.col('nrs') + 5).alias(\"nrs + 5\"),\n",
    "    (pl.col('nrs') - 5).alias('nrs - 5'),\n",
    "    (pl.col('nrs') * pl.col('random')).alias(\"nrs * random\"),\n",
    "    (pl.col('nrs') / pl.col('random')).alias(\"nrs / random\"),\n",
    "    (pl.col(\"nrs\") ** 2).alias('nrs ** 2'),\n",
    "    (pl.col(\"nrs\") % 3).alias('nrs % 3')\n",
    ")\n",
    "print(result)"
   ]
  },
  {
   "cell_type": "code",
   "execution_count": 6,
   "metadata": {},
   "outputs": [
    {
     "name": "stdout",
     "output_type": "stream",
     "text": [
      "shape: (5, 6)\n",
      "┌─────────┬──────────┬──────────────┬───────────────┬──────────┬──────────┐\n",
      "│ nrs > 1 ┆ nrs >= 3 ┆ random < 0.2 ┆ random <= 0.5 ┆ nrs != 1 ┆ nrs == 1 │\n",
      "│ ---     ┆ ---      ┆ ---          ┆ ---           ┆ ---      ┆ ---      │\n",
      "│ bool    ┆ bool     ┆ bool         ┆ bool          ┆ bool     ┆ bool     │\n",
      "╞═════════╪══════════╪══════════════╪═══════════════╪══════════╪══════════╡\n",
      "│ false   ┆ false    ┆ true         ┆ true          ┆ false    ┆ true     │\n",
      "│ true    ┆ false    ┆ true         ┆ true          ┆ true     ┆ false    │\n",
      "│ true    ┆ true     ┆ false        ┆ false         ┆ true     ┆ false    │\n",
      "│ null    ┆ null     ┆ false        ┆ false         ┆ null     ┆ null     │\n",
      "│ true    ┆ true     ┆ false        ┆ false         ┆ true     ┆ false    │\n",
      "└─────────┴──────────┴──────────────┴───────────────┴──────────┴──────────┘\n"
     ]
    }
   ],
   "source": [
    "result = df.select(\n",
    "    (pl.col('nrs') > 1).alias('nrs > 1'),\n",
    "    (pl.col('nrs') >= 3).alias('nrs >= 3'),\n",
    "    (pl.col('random') < .2).alias('random < 0.2'),\n",
    "    (pl.col('random') <= .5).alias('random <= 0.5'),\n",
    "    (pl.col('nrs') != 1).alias('nrs != 1'),\n",
    "    (pl.col('nrs') == 1).alias('nrs == 1'),\n",
    ")\n",
    "print(result)"
   ]
  },
  {
   "cell_type": "code",
   "execution_count": null,
   "metadata": {},
   "outputs": [
    {
     "name": "stdout",
     "output_type": "stream",
     "text": [
      "shape: (5, 2)\n",
      "┌─────────────────────────────┬─────────────────────────┐\n",
      "│ number not null and group A ┆ random < 0.5 or group B │\n",
      "│ ---                         ┆ ---                     │\n",
      "│ bool                        ┆ bool                    │\n",
      "╞═════════════════════════════╪═════════════════════════╡\n",
      "│ true                        ┆ true                    │\n",
      "│ true                        ┆ true                    │\n",
      "│ false                       ┆ true                    │\n",
      "│ false                       ┆ false                   │\n",
      "│ false                       ┆ true                    │\n",
      "└─────────────────────────────┴─────────────────────────┘\n"
     ]
    }
   ],
   "source": [
    "result = df.select(\n",
    "    ((~pl.col('nrs').is_null()) & (pl.col('groups') == 'A')).alias('number not null and group A'),\n",
    "    ((pl.col('random') < 0.5) | (pl.col('groups') == 'B')).alias(\"random < 0.5 or group B\"),\n",
    ")\n",
    "print(result)"
   ]
  },
  {
   "cell_type": "code",
   "execution_count": 10,
   "metadata": {},
   "outputs": [
    {
     "name": "stdout",
     "output_type": "stream",
     "text": [
      "shape: (5, 5)\n",
      "┌──────┬─────────┬─────────┬───────┬─────────┐\n",
      "│ nrs  ┆ nrs & 6 ┆ nrs | 6 ┆ ~ nrs ┆ nrs ^ 6 │\n",
      "│ ---  ┆ ---     ┆ ---     ┆ ---   ┆ ---     │\n",
      "│ i64  ┆ i64     ┆ i64     ┆ i64   ┆ i64     │\n",
      "╞══════╪═════════╪═════════╪═══════╪═════════╡\n",
      "│ 1    ┆ 0       ┆ 7       ┆ -2    ┆ 7       │\n",
      "│ 2    ┆ 2       ┆ 6       ┆ -3    ┆ 4       │\n",
      "│ 3    ┆ 2       ┆ 7       ┆ -4    ┆ 5       │\n",
      "│ null ┆ null    ┆ null    ┆ null  ┆ null    │\n",
      "│ 5    ┆ 4       ┆ 7       ┆ -6    ┆ 3       │\n",
      "└──────┴─────────┴─────────┴───────┴─────────┘\n"
     ]
    }
   ],
   "source": [
    "result = df.select(\n",
    "    pl.col('nrs'),\n",
    "    (pl.col('nrs') & 6).alias('nrs & 6'),\n",
    "    (pl.col('nrs') | 6).alias('nrs | 6'),\n",
    "    (~pl.col('nrs')).alias(\"~ nrs\"),\n",
    "    (pl.col('nrs') ^ 6).alias('nrs ^ 6')\n",
    ")\n",
    "print(result)"
   ]
  },
  {
   "cell_type": "code",
   "execution_count": 11,
   "metadata": {},
   "outputs": [
    {
     "name": "stdout",
     "output_type": "stream",
     "text": [
      "shape: (1, 2)\n",
      "┌──────────┬─────────────────┐\n",
      "│ n_unique ┆ approx_n_unique │\n",
      "│ ---      ┆ ---             │\n",
      "│ u32      ┆ u32             │\n",
      "╞══════════╪═════════════════╡\n",
      "│ 613      ┆ 614             │\n",
      "└──────────┴─────────────────┘\n"
     ]
    }
   ],
   "source": [
    "long_df = pl.DataFrame({\n",
    "    \"numbers\" : np.random.randint(0,1000,1000),\n",
    "})\n",
    "result = long_df.select(\n",
    "    (pl.col('numbers').n_unique().alias(\"n_unique\")),\n",
    "    (pl.col('numbers').approx_n_unique().alias('approx_n_unique')),\n",
    ")\n",
    "print(result)"
   ]
  },
  {
   "cell_type": "code",
   "execution_count": 12,
   "metadata": {},
   "outputs": [
    {
     "name": "stdout",
     "output_type": "stream",
     "text": [
      "shape: (4, 1)\n",
      "┌──────────────┐\n",
      "│ value_counts │\n",
      "│ ---          │\n",
      "│ struct[2]    │\n",
      "╞══════════════╡\n",
      "│ {\"spam\",2}   │\n",
      "│ {\"ham\",1}    │\n",
      "│ {\"foo\",1}    │\n",
      "│ {\"egg\",1}    │\n",
      "└──────────────┘\n"
     ]
    }
   ],
   "source": [
    "result = df.select(\n",
    "    (pl.col('names').value_counts()).alias('value_counts')\n",
    ")\n",
    "print(result)"
   ]
  },
  {
   "cell_type": "code",
   "execution_count": 13,
   "metadata": {},
   "outputs": [
    {
     "name": "stdout",
     "output_type": "stream",
     "text": [
      "shape: (4, 2)\n",
      "┌────────┬───────────────┐\n",
      "│ unique ┆ unique_counts │\n",
      "│ ---    ┆ ---           │\n",
      "│ str    ┆ u32           │\n",
      "╞════════╪═══════════════╡\n",
      "│ foo    ┆ 1             │\n",
      "│ ham    ┆ 1             │\n",
      "│ spam   ┆ 2             │\n",
      "│ egg    ┆ 1             │\n",
      "└────────┴───────────────┘\n"
     ]
    }
   ],
   "source": [
    "result = df.select(\n",
    "    (pl.col('names').unique(maintain_order=True).alias('unique')),\n",
    "    (pl.col('names').unique_counts()).alias('unique_counts')\n",
    ")\n",
    "print(result)"
   ]
  },
  {
   "cell_type": "code",
   "execution_count": 14,
   "metadata": {},
   "outputs": [
    {
     "name": "stdout",
     "output_type": "stream",
     "text": [
      "shape: (5, 2)\n",
      "┌──────┬─────────┐\n",
      "│ nrs  ┆ Collatz │\n",
      "│ ---  ┆ ---     │\n",
      "│ i64  ┆ i64     │\n",
      "╞══════╪═════════╡\n",
      "│ 1    ┆ 4       │\n",
      "│ 2    ┆ 1       │\n",
      "│ 3    ┆ 10      │\n",
      "│ null ┆ null    │\n",
      "│ 5    ┆ 16      │\n",
      "└──────┴─────────┘\n"
     ]
    }
   ],
   "source": [
    "result = df.select(\n",
    "    pl.col('nrs'),\n",
    "    pl.when(pl.col('nrs')%2 == 1).then(3 * pl.col(\"nrs\") + 1).otherwise(pl.col('nrs') // 2).alias('Collatz')\n",
    ")\n",
    "print(result)"
   ]
  },
  {
   "cell_type": "code",
   "execution_count": null,
   "metadata": {},
   "outputs": [],
   "source": []
  }
 ],
 "metadata": {
  "kernelspec": {
   "display_name": "venv",
   "language": "python",
   "name": "python3"
  },
  "language_info": {
   "codemirror_mode": {
    "name": "ipython",
    "version": 3
   },
   "file_extension": ".py",
   "mimetype": "text/x-python",
   "name": "python",
   "nbconvert_exporter": "python",
   "pygments_lexer": "ipython3",
   "version": "3.12.3"
  }
 },
 "nbformat": 4,
 "nbformat_minor": 2
}
