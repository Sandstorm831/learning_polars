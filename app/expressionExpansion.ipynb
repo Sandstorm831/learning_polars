{
 "cells": [
  {
   "cell_type": "code",
   "execution_count": 1,
   "metadata": {},
   "outputs": [],
   "source": [
    "import polars as pl"
   ]
  },
  {
   "cell_type": "code",
   "execution_count": 2,
   "metadata": {},
   "outputs": [
    {
     "name": "stdout",
     "output_type": "stream",
     "text": [
      "shape: (5, 7)\n",
      "┌────────┬───────────────────┬────────┬──────────┬─────────┬───────────┬──────────┐\n",
      "│ ticker ┆ company_name      ┆ price  ┆ day_high ┆ day_low ┆ year_high ┆ year_low │\n",
      "│ ---    ┆ ---               ┆ ---    ┆ ---      ┆ ---     ┆ ---       ┆ ---      │\n",
      "│ str    ┆ str               ┆ f64    ┆ f64      ┆ f64     ┆ f64       ┆ f64      │\n",
      "╞════════╪═══════════════════╪════════╪══════════╪═════════╪═══════════╪══════════╡\n",
      "│ AAPL   ┆ Apple             ┆ 229.9  ┆ 231.31   ┆ 228.6   ┆ 237.23    ┆ 164.08   │\n",
      "│ NVDA   ┆ NVIDIA            ┆ 138.93 ┆ 139.6    ┆ 136.3   ┆ 140.76    ┆ 39.23    │\n",
      "│ MSFT   ┆ Microsoft         ┆ 420.56 ┆ 424.04   ┆ 417.52  ┆ 468.35    ┆ 324.39   │\n",
      "│ GOOG   ┆ Alphabet (Google) ┆ 166.41 ┆ 167.62   ┆ 164.78  ┆ 193.31    ┆ 121.46   │\n",
      "│ AMZN   ┆ Amazon            ┆ 188.4  ┆ 189.83   ┆ 188.44  ┆ 201.2     ┆ 118.35   │\n",
      "└────────┴───────────────────┴────────┴──────────┴─────────┴───────────┴──────────┘\n"
     ]
    }
   ],
   "source": [
    "df = pl.DataFrame(\n",
    "    {\n",
    "        \"ticker\": [\"AAPL\", \"NVDA\", \"MSFT\", \"GOOG\", \"AMZN\"],\n",
    "        \"company_name\": [\"Apple\", \"NVIDIA\", \"Microsoft\", \"Alphabet (Google)\", \"Amazon\"],\n",
    "        \"price\": [229.9, 138.93, 420.56, 166.41, 188.4],\n",
    "        \"day_high\": [231.31, 139.6, 424.04, 167.62, 189.83],\n",
    "        \"day_low\": [228.6, 136.3, 417.52, 164.78, 188.44],\n",
    "        \"year_high\": [237.23, 140.76, 468.35, 193.31, 201.2],\n",
    "        \"year_low\": [164.08, 39.23, 324.39, 121.46, 118.35],\n",
    "    }\n",
    ")\n",
    "print(df)"
   ]
  },
  {
   "cell_type": "code",
   "execution_count": 3,
   "metadata": {},
   "outputs": [
    {
     "name": "stdout",
     "output_type": "stream",
     "text": [
      "shape: (5, 7)\n",
      "┌────────┬───────────────────┬────────┬──────────┬─────────┬───────────┬──────────┐\n",
      "│ ticker ┆ company_name      ┆ price  ┆ day_high ┆ day_low ┆ year_high ┆ year_low │\n",
      "│ ---    ┆ ---               ┆ ---    ┆ ---      ┆ ---     ┆ ---       ┆ ---      │\n",
      "│ str    ┆ str               ┆ f64    ┆ f64      ┆ f64     ┆ f64       ┆ f64      │\n",
      "╞════════╪═══════════════════╪════════╪══════════╪═════════╪═══════════╪══════════╡\n",
      "│ AAPL   ┆ Apple             ┆ 210.92 ┆ 212.21   ┆ 209.72  ┆ 217.64    ┆ 150.53   │\n",
      "│ NVDA   ┆ NVIDIA            ┆ 127.46 ┆ 128.07   ┆ 125.05  ┆ 129.14    ┆ 35.99    │\n",
      "│ MSFT   ┆ Microsoft         ┆ 385.83 ┆ 389.03   ┆ 383.05  ┆ 429.68    ┆ 297.61   │\n",
      "│ GOOG   ┆ Alphabet (Google) ┆ 152.67 ┆ 153.78   ┆ 151.17  ┆ 177.35    ┆ 111.43   │\n",
      "│ AMZN   ┆ Amazon            ┆ 172.84 ┆ 174.16   ┆ 172.88  ┆ 184.59    ┆ 108.58   │\n",
      "└────────┴───────────────────┴────────┴──────────┴─────────┴───────────┴──────────┘\n"
     ]
    }
   ],
   "source": [
    "eur_usd_rate = 1.09\n",
    "result = df.with_columns(\n",
    "    (pl.col('price', 'day_high', 'day_low', 'year_high', 'year_low') / eur_usd_rate).round(2),\n",
    ")\n",
    "print(result)"
   ]
  },
  {
   "cell_type": "code",
   "execution_count": 5,
   "metadata": {},
   "outputs": [
    {
     "name": "stdout",
     "output_type": "stream",
     "text": [
      "shape: (5, 7)\n",
      "┌────────┬───────────────────┬────────┬──────────┬─────────┬───────────┬──────────┐\n",
      "│ ticker ┆ company_name      ┆ price  ┆ day_high ┆ day_low ┆ year_high ┆ year_low │\n",
      "│ ---    ┆ ---               ┆ ---    ┆ ---      ┆ ---     ┆ ---       ┆ ---      │\n",
      "│ str    ┆ str               ┆ f64    ┆ f64      ┆ f64     ┆ f64       ┆ f64      │\n",
      "╞════════╪═══════════════════╪════════╪══════════╪═════════╪═══════════╪══════════╡\n",
      "│ AAPL   ┆ Apple             ┆ 210.92 ┆ 212.21   ┆ 209.72  ┆ 217.64    ┆ 150.53   │\n",
      "│ NVDA   ┆ NVIDIA            ┆ 127.46 ┆ 128.07   ┆ 125.05  ┆ 129.14    ┆ 35.99    │\n",
      "│ MSFT   ┆ Microsoft         ┆ 385.83 ┆ 389.03   ┆ 383.05  ┆ 429.68    ┆ 297.61   │\n",
      "│ GOOG   ┆ Alphabet (Google) ┆ 152.67 ┆ 153.78   ┆ 151.17  ┆ 177.35    ┆ 111.43   │\n",
      "│ AMZN   ┆ Amazon            ┆ 172.84 ┆ 174.16   ┆ 172.88  ┆ 184.59    ┆ 108.58   │\n",
      "└────────┴───────────────────┴────────┴──────────┴─────────┴───────────┴──────────┘\n"
     ]
    }
   ],
   "source": [
    "result = df.with_columns((pl.col(pl.Float64) / eur_usd_rate).round(2))\n",
    "print(result)"
   ]
  },
  {
   "cell_type": "code",
   "execution_count": 6,
   "metadata": {},
   "outputs": [
    {
     "name": "stdout",
     "output_type": "stream",
     "text": [
      "shape: (5, 7)\n",
      "┌────────┬───────────────────┬────────┬──────────┬─────────┬───────────┬──────────┐\n",
      "│ ticker ┆ company_name      ┆ price  ┆ day_high ┆ day_low ┆ year_high ┆ year_low │\n",
      "│ ---    ┆ ---               ┆ ---    ┆ ---      ┆ ---     ┆ ---       ┆ ---      │\n",
      "│ str    ┆ str               ┆ f64    ┆ f64      ┆ f64     ┆ f64       ┆ f64      │\n",
      "╞════════╪═══════════════════╪════════╪══════════╪═════════╪═══════════╪══════════╡\n",
      "│ AAPL   ┆ Apple             ┆ 210.92 ┆ 212.21   ┆ 209.72  ┆ 217.64    ┆ 150.53   │\n",
      "│ NVDA   ┆ NVIDIA            ┆ 127.46 ┆ 128.07   ┆ 125.05  ┆ 129.14    ┆ 35.99    │\n",
      "│ MSFT   ┆ Microsoft         ┆ 385.83 ┆ 389.03   ┆ 383.05  ┆ 429.68    ┆ 297.61   │\n",
      "│ GOOG   ┆ Alphabet (Google) ┆ 152.67 ┆ 153.78   ┆ 151.17  ┆ 177.35    ┆ 111.43   │\n",
      "│ AMZN   ┆ Amazon            ┆ 172.84 ┆ 174.16   ┆ 172.88  ┆ 184.59    ┆ 108.58   │\n",
      "└────────┴───────────────────┴────────┴──────────┴─────────┴───────────┴──────────┘\n"
     ]
    }
   ],
   "source": [
    "result2 = df.with_columns((pl.col(pl.Float32, pl.Float64) / eur_usd_rate).round(2))\n",
    "print(result2)"
   ]
  },
  {
   "cell_type": "code",
   "execution_count": 8,
   "metadata": {},
   "outputs": [
    {
     "name": "stdout",
     "output_type": "stream",
     "text": [
      "shape: (5, 5)\n",
      "┌────────┬──────────┬───────────┬─────────┬──────────┐\n",
      "│ ticker ┆ day_high ┆ year_high ┆ day_low ┆ year_low │\n",
      "│ ---    ┆ ---      ┆ ---       ┆ ---     ┆ ---      │\n",
      "│ str    ┆ f64      ┆ f64       ┆ f64     ┆ f64      │\n",
      "╞════════╪══════════╪═══════════╪═════════╪══════════╡\n",
      "│ AAPL   ┆ 231.31   ┆ 237.23    ┆ 228.6   ┆ 164.08   │\n",
      "│ NVDA   ┆ 139.6    ┆ 140.76    ┆ 136.3   ┆ 39.23    │\n",
      "│ MSFT   ┆ 424.04   ┆ 468.35    ┆ 417.52  ┆ 324.39   │\n",
      "│ GOOG   ┆ 167.62   ┆ 193.31    ┆ 164.78  ┆ 121.46   │\n",
      "│ AMZN   ┆ 189.83   ┆ 201.2     ┆ 188.44  ┆ 118.35   │\n",
      "└────────┴──────────┴───────────┴─────────┴──────────┘\n"
     ]
    }
   ],
   "source": [
    "result = df.select(pl.col('ticker', \"^.*_high$\", \"^.*_low$\"))\n",
    "print(result)"
   ]
  },
  {
   "cell_type": "code",
   "execution_count": 10,
   "metadata": {},
   "outputs": [
    {
     "name": "stdout",
     "output_type": "stream",
     "text": [
      "TypeError ->  argument 'names': 'DataTypeClass' object cannot be converted to 'PyString'\n"
     ]
    }
   ],
   "source": [
    "try:\n",
    "    df.select(pl.col('ticker', pl.Float64))\n",
    "except TypeError as err:\n",
    "    print(\"TypeError -> \", err)"
   ]
  },
  {
   "cell_type": "code",
   "execution_count": 12,
   "metadata": {},
   "outputs": [
    {
     "name": "stdout",
     "output_type": "stream",
     "text": [
      "True\n"
     ]
    }
   ],
   "source": [
    "result = df.select(pl.all())\n",
    "print(result.equals(df))"
   ]
  },
  {
   "cell_type": "code",
   "execution_count": 15,
   "metadata": {},
   "outputs": [
    {
     "name": "stdout",
     "output_type": "stream",
     "text": [
      "shape: (5, 3)\n",
      "┌────────┬───────────────────┬────────┐\n",
      "│ ticker ┆ company_name      ┆ price  │\n",
      "│ ---    ┆ ---               ┆ ---    │\n",
      "│ str    ┆ str               ┆ f64    │\n",
      "╞════════╪═══════════════════╪════════╡\n",
      "│ AAPL   ┆ Apple             ┆ 229.9  │\n",
      "│ NVDA   ┆ NVIDIA            ┆ 138.93 │\n",
      "│ MSFT   ┆ Microsoft         ┆ 420.56 │\n",
      "│ GOOG   ┆ Alphabet (Google) ┆ 166.41 │\n",
      "│ AMZN   ┆ Amazon            ┆ 188.4  │\n",
      "└────────┴───────────────────┴────────┘\n"
     ]
    }
   ],
   "source": [
    "result = df.select(pl.all().exclude(\"^day_.*$\", \"^year_.*$\"))\n",
    "print(result)"
   ]
  },
  {
   "cell_type": "code",
   "execution_count": 16,
   "metadata": {},
   "outputs": [
    {
     "name": "stdout",
     "output_type": "stream",
     "text": [
      "shape: (5, 3)\n",
      "┌────────┬───────────┬──────────┐\n",
      "│ price  ┆ year_high ┆ year_low │\n",
      "│ ---    ┆ ---       ┆ ---      │\n",
      "│ f64    ┆ f64       ┆ f64      │\n",
      "╞════════╪═══════════╪══════════╡\n",
      "│ 229.9  ┆ 237.23    ┆ 164.08   │\n",
      "│ 138.93 ┆ 140.76    ┆ 39.23    │\n",
      "│ 420.56 ┆ 468.35    ┆ 324.39   │\n",
      "│ 166.41 ┆ 193.31    ┆ 121.46   │\n",
      "│ 188.4  ┆ 201.2     ┆ 118.35   │\n",
      "└────────┴───────────┴──────────┘\n"
     ]
    }
   ],
   "source": [
    "result = df.select(pl.col(pl.Float64, pl.Float32).exclude(\"^day_.*$\"))\n",
    "print(result)"
   ]
  },
  {
   "cell_type": "code",
   "execution_count": 17,
   "metadata": {},
   "outputs": [
    {
     "name": "stdout",
     "output_type": "stream",
     "text": [
      "DuplicateError ->  the name 'price' is duplicate\n",
      "\n",
      "It's possible that multiple expressions are returning the same default column name. If this is the case, try renaming the columns with `.alias(\"new_name\")` to avoid duplicate column names.\n"
     ]
    }
   ],
   "source": [
    "from polars.exceptions import DuplicateError\n",
    "gbp_usd_rate = 1.31\n",
    "\n",
    "try:\n",
    "    df.select(\n",
    "        pl.col('price') / gbp_usd_rate,\n",
    "        pl.col('price') / eur_usd_rate,\n",
    "    )\n",
    "except DuplicateError as err:\n",
    "    print(\"DuplicateError -> \", err)"
   ]
  },
  {
   "cell_type": "code",
   "execution_count": 19,
   "metadata": {},
   "outputs": [
    {
     "name": "stdout",
     "output_type": "stream",
     "text": [
      "shape: (5, 2)\n",
      "┌─────────────┬─────────────┐\n",
      "│ price (GBP) ┆ price (EUR) │\n",
      "│ ---         ┆ ---         │\n",
      "│ f64         ┆ f64         │\n",
      "╞═════════════╪═════════════╡\n",
      "│ 175.496183  ┆ 210.917431  │\n",
      "│ 106.053435  ┆ 127.458716  │\n",
      "│ 321.038168  ┆ 385.834862  │\n",
      "│ 127.030534  ┆ 152.669725  │\n",
      "│ 143.816794  ┆ 172.844037  │\n",
      "└─────────────┴─────────────┘\n"
     ]
    }
   ],
   "source": [
    "result = df.select(\n",
    "    (pl.col('price') / gbp_usd_rate).alias('price (GBP)'),\n",
    "    (pl.col('price') / eur_usd_rate).alias('price (EUR)'), # Alias is specific for a single column only\n",
    ")\n",
    "print(result)"
   ]
  },
  {
   "cell_type": "code",
   "execution_count": 26,
   "metadata": {},
   "outputs": [
    {
     "name": "stdout",
     "output_type": "stream",
     "text": [
      "shape: (5, 4)\n",
      "┌──────────────────┬─────────────────┬──────────────┬─────────────┐\n",
      "│ in_eur_year_high ┆ in_eur_year_low ┆ day_high_gbp ┆ day_low_gbp │\n",
      "│ ---              ┆ ---             ┆ ---          ┆ ---         │\n",
      "│ f64              ┆ f64             ┆ f64          ┆ f64         │\n",
      "╞══════════════════╪═════════════════╪══════════════╪═════════════╡\n",
      "│ 217.642202       ┆ 150.53211       ┆ 176.572519   ┆ 174.503817  │\n",
      "│ 129.137615       ┆ 35.990826       ┆ 106.564885   ┆ 104.045802  │\n",
      "│ 429.678899       ┆ 297.605505      ┆ 323.694656   ┆ 318.717557  │\n",
      "│ 177.348624       ┆ 111.431193      ┆ 127.954198   ┆ 125.78626   │\n",
      "│ 184.587156       ┆ 108.577982      ┆ 144.908397   ┆ 143.847328  │\n",
      "└──────────────────┴─────────────────┴──────────────┴─────────────┘\n"
     ]
    }
   ],
   "source": [
    "result = df.select(\n",
    "    (pl.col(\"^year_.*$\") / eur_usd_rate).name.prefix('in_eur_'),\n",
    "    (pl.col(\"^day_.*$\") / gbp_usd_rate).name.suffix('_gbp'),\n",
    ")\n",
    "print(result)"
   ]
  },
  {
   "cell_type": "code",
   "execution_count": 27,
   "metadata": {},
   "outputs": [
    {
     "name": "stdout",
     "output_type": "stream",
     "text": [
      "shape: (5, 7)\n",
      "┌────────┬───────────────────┬────────┬──────────┬─────────┬───────────┬──────────┐\n",
      "│ TICKER ┆ COMPANY_NAME      ┆ PRICE  ┆ DAY_HIGH ┆ DAY_LOW ┆ YEAR_HIGH ┆ YEAR_LOW │\n",
      "│ ---    ┆ ---               ┆ ---    ┆ ---      ┆ ---     ┆ ---       ┆ ---      │\n",
      "│ str    ┆ str               ┆ f64    ┆ f64      ┆ f64     ┆ f64       ┆ f64      │\n",
      "╞════════╪═══════════════════╪════════╪══════════╪═════════╪═══════════╪══════════╡\n",
      "│ AAPL   ┆ Apple             ┆ 229.9  ┆ 231.31   ┆ 228.6   ┆ 237.23    ┆ 164.08   │\n",
      "│ NVDA   ┆ NVIDIA            ┆ 138.93 ┆ 139.6    ┆ 136.3   ┆ 140.76    ┆ 39.23    │\n",
      "│ MSFT   ┆ Microsoft         ┆ 420.56 ┆ 424.04   ┆ 417.52  ┆ 468.35    ┆ 324.39   │\n",
      "│ GOOG   ┆ Alphabet (Google) ┆ 166.41 ┆ 167.62   ┆ 164.78  ┆ 193.31    ┆ 121.46   │\n",
      "│ AMZN   ┆ Amazon            ┆ 188.4  ┆ 189.83   ┆ 188.44  ┆ 201.2     ┆ 118.35   │\n",
      "└────────┴───────────────────┴────────┴──────────┴─────────┴───────────┴──────────┘\n"
     ]
    }
   ],
   "source": [
    "result = df.select(pl.all().name.map(str.upper))\n",
    "print(result)"
   ]
  },
  {
   "cell_type": "code",
   "execution_count": null,
   "metadata": {},
   "outputs": [
    {
     "name": "stdout",
     "output_type": "stream",
     "text": [
      "shape: (5, 9)\n",
      "┌────────┬──────────────┬────────┬──────────┬───┬───────────┬──────────┬─────────────┬─────────────┐\n",
      "│ ticker ┆ company_name ┆ price  ┆ day_high ┆ … ┆ year_high ┆ year_low ┆ day_amplitu ┆ year_amplit │\n",
      "│ ---    ┆ ---          ┆ ---    ┆ ---      ┆   ┆ ---       ┆ ---      ┆ de          ┆ ude         │\n",
      "│ str    ┆ str          ┆ f64    ┆ f64      ┆   ┆ f64       ┆ f64      ┆ ---         ┆ ---         │\n",
      "│        ┆              ┆        ┆          ┆   ┆           ┆          ┆ f64         ┆ f64         │\n",
      "╞════════╪══════════════╪════════╪══════════╪═══╪═══════════╪══════════╪═════════════╪═════════════╡\n",
      "│ AAPL   ┆ Apple        ┆ 229.9  ┆ 231.31   ┆ … ┆ 237.23    ┆ 164.08   ┆ 2.71        ┆ 73.15       │\n",
      "│ NVDA   ┆ NVIDIA       ┆ 138.93 ┆ 139.6    ┆ … ┆ 140.76    ┆ 39.23    ┆ 3.3         ┆ 101.53      │\n",
      "│ MSFT   ┆ Microsoft    ┆ 420.56 ┆ 424.04   ┆ … ┆ 468.35    ┆ 324.39   ┆ 6.52        ┆ 143.96      │\n",
      "│ GOOG   ┆ Alphabet     ┆ 166.41 ┆ 167.62   ┆ … ┆ 193.31    ┆ 121.46   ┆ 2.84        ┆ 71.85       │\n",
      "│        ┆ (Google)     ┆        ┆          ┆   ┆           ┆          ┆             ┆             │\n",
      "│ AMZN   ┆ Amazon       ┆ 188.4  ┆ 189.83   ┆ … ┆ 201.2     ┆ 118.35   ┆ 1.39        ┆ 82.85       │\n",
      "└────────┴──────────────┴────────┴──────────┴───┴───────────┴──────────┴─────────────┴─────────────┘\n"
     ]
    }
   ],
   "source": [
    "# Do not use this\n",
    "# result = df\n",
    "# for tp in ['day', 'year']:\n",
    "#     result = result.with_columns(\n",
    "#         (pl.col(f'{tp}_high') - pl.col(f'{tp}_low')).alias(f'{tp}_amplitde')\n",
    "#     )\n",
    "\n",
    "# Instead, do this\n",
    "\n",
    "def amplitude_expression(time_periods):\n",
    "    for tp in time_periods:\n",
    "        yield (pl.col(f'{tp}_high') - pl.col(f'{tp}_low')).alias(f'{tp}_amplitude')\n",
    "result = df.with_columns(amplitude_expression(['day','year']))\n",
    "print(result)"
   ]
  },
  {
   "cell_type": "code",
   "execution_count": null,
   "metadata": {},
   "outputs": [],
   "source": []
  }
 ],
 "metadata": {
  "kernelspec": {
   "display_name": "venv",
   "language": "python",
   "name": "python3"
  },
  "language_info": {
   "codemirror_mode": {
    "name": "ipython",
    "version": 3
   },
   "file_extension": ".py",
   "mimetype": "text/x-python",
   "name": "python",
   "nbconvert_exporter": "python",
   "pygments_lexer": "ipython3",
   "version": "3.12.3"
  }
 },
 "nbformat": 4,
 "nbformat_minor": 2
}
